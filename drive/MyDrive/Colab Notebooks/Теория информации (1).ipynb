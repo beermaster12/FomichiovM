{
  "nbformat": 4,
  "nbformat_minor": 0,
  "metadata": {
    "colab": {
      "provenance": []
    },
    "kernelspec": {
      "name": "python3",
      "display_name": "Python 3"
    },
    "language_info": {
      "name": "python"
    }
  },
  "cells": [
    {
      "cell_type": "code",
      "source": [
        "# @title Задание 2. Шрифт Цезаря.       | Не трогать код!!!\n",
        "# @markdown Впишите свое слово и индекс смещения в следующей ячейке при вызове функции\n",
        "\n",
        "ru_alphabet = alphabet = ['А', 'Б', 'В', 'Г', 'Д', 'Е', 'Ж', 'З', 'И', 'Й', 'К', 'Л', 'М', 'Н', 'О', 'П', 'Р', 'С', 'Т', 'У', 'Ф', 'Х', 'Ц', 'Ч', 'Ш', 'Щ', 'Ы', 'Ь', 'Э', 'Ю', 'Я', '_']\n",
        "\n",
        "def caesar_cipher(text, shift):\n",
        "    result = ''\n",
        "    for char in text:\n",
        "        if char == 'Ё':\n",
        "          char = 'Е'\n",
        "        if char == 'Ъ':\n",
        "          char = 'Ь'\n",
        "        if char.upper() in ru_alphabet:\n",
        "            index = ru_alphabet.index(char.upper())\n",
        "            shifted_index = (index + shift) % len(ru_alphabet)\n",
        "            shifted_char = ru_alphabet[shifted_index]\n",
        "            if char.islower():\n",
        "              shifted_char = shifted_char.lower()\n",
        "            result += shifted_char\n",
        "        else:\n",
        "            result += char\n",
        "    return result"
      ],
      "metadata": {
        "id": "N27DEnVRLCHp",
        "cellView": "form"
      },
      "execution_count": null,
      "outputs": []
    },
    {
      "cell_type": "code",
      "source": [
        "ceasar_name = caesar_cipher('ЛОСЬ_ПАВЕЛ', 5)\n",
        "print(ceasar_name)\n"
      ],
      "metadata": {
        "id": "T3Dg12GjLGFp",
        "colab": {
          "base_uri": "https://localhost:8080/"
        },
        "outputId": "f6631f51-27d9-4f2e-8b4f-f5e32f996e67"
      },
      "execution_count": null,
      "outputs": [
        {
          "output_type": "stream",
          "name": "stdout",
          "text": [
            "РУЦАДФЕЗКР\n"
          ]
        }
      ]
    },
    {
      "cell_type": "code",
      "source": [
        "# @title Задание 3. Кодирование матрицей Виженера. | Не трогать код!!!\n",
        "# @markdown Просто запустите следующее деление\n",
        "def create_vigenere_matrix():\n",
        "    # Определяем ось X и Y\n",
        "    axis = ['А', 'Б', 'В', 'Г', 'Д', 'Е', 'Ж', 'З', 'И', 'Й', 'К', 'Л', 'М', 'Н',\n",
        "            'О', 'П', 'Р', 'С', 'Т', 'У', 'Ф', 'Х', 'Ц', 'Ч', 'Ш', 'Щ', 'Ы', 'Ь',\n",
        "            'Э', 'Ю', 'Я', '_']\n",
        "\n",
        "    # Внутренний порядок для первой строки\n",
        "    base_row = ['Р', 'О', 'А', '_', 'К', 'В', 'Ц', 'Ш', 'Щ', 'Б', 'М', 'Н', 'Ы', 'Ж',\n",
        "                'Е', 'Д', 'Ь', 'Э', 'П', 'Й', 'З', 'И', 'Т', 'Ю', 'Я', 'Г',\n",
        "                'Х', 'С', 'Ф', 'Л', 'Ч', 'У']\n",
        "\n",
        "    # Создаём матрицу Виженера\n",
        "    matrix = []\n",
        "    for i in range(len(base_row)):\n",
        "        matrix.append(base_row[i:] + base_row[:i])  # Циклический сдвиг строки влево\n",
        "    print(matrix)\n",
        "    return axis, matrix\n",
        "\n",
        "\n",
        "\n",
        "\n",
        "def encrypt_vigenere(text, key):\n",
        "    axis, matrix = create_vigenere_matrix()\n",
        "    encrypted_text = \"\"\n",
        "    key_index = 0\n",
        "\n",
        "    for char in text:\n",
        "        if char == 'Ё':\n",
        "          char = 'Е'\n",
        "        if char == 'Ъ':\n",
        "          char = 'Ь'\n",
        "        if char not in axis:\n",
        "            encrypted_text += char  # Пропускаем символы вне алфавита\n",
        "            continue\n",
        "\n",
        "        # Индексы символа из текста и ключа\n",
        "        text_idx = axis.index(char)\n",
        "        key_char = key[key_index % len(key)]\n",
        "        key_idx = axis.index(key_char)\n",
        "\n",
        "        # Зашифрованный символ из матрицы\n",
        "        encrypted_char = matrix[key_idx][text_idx]\n",
        "        encrypted_text += encrypted_char\n",
        "\n",
        "        # Переход к следующему символу ключа\n",
        "        key_index += 1\n",
        "\n",
        "    return encrypted_text"
      ],
      "metadata": {
        "id": "e9K8Vcf1NmnT",
        "cellView": "form"
      },
      "execution_count": null,
      "outputs": []
    },
    {
      "cell_type": "code",
      "source": [
        "vigenere_name = encrypt_vigenere(ceasar_name, 'ЛАРЕК')\n",
        "print(vigenere_name)"
      ],
      "metadata": {
        "colab": {
          "base_uri": "https://localhost:8080/"
        },
        "id": "un3d2BonOBW-",
        "outputId": "935de725-2c14-4f7f-ca7f-f217bcbf8522"
      },
      "execution_count": null,
      "outputs": [
        {
          "output_type": "stream",
          "name": "stdout",
          "text": [
            "[['Р', 'О', 'А', '_', 'К', 'В', 'Ц', 'Ш', 'Щ', 'Б', 'М', 'Н', 'Ы', 'Ж', 'Е', 'Д', 'Ь', 'Э', 'П', 'Й', 'З', 'И', 'Т', 'Ю', 'Я', 'Г', 'Х', 'С', 'Ф', 'Л', 'Ч', 'У'], ['О', 'А', '_', 'К', 'В', 'Ц', 'Ш', 'Щ', 'Б', 'М', 'Н', 'Ы', 'Ж', 'Е', 'Д', 'Ь', 'Э', 'П', 'Й', 'З', 'И', 'Т', 'Ю', 'Я', 'Г', 'Х', 'С', 'Ф', 'Л', 'Ч', 'У', 'Р'], ['А', '_', 'К', 'В', 'Ц', 'Ш', 'Щ', 'Б', 'М', 'Н', 'Ы', 'Ж', 'Е', 'Д', 'Ь', 'Э', 'П', 'Й', 'З', 'И', 'Т', 'Ю', 'Я', 'Г', 'Х', 'С', 'Ф', 'Л', 'Ч', 'У', 'Р', 'О'], ['_', 'К', 'В', 'Ц', 'Ш', 'Щ', 'Б', 'М', 'Н', 'Ы', 'Ж', 'Е', 'Д', 'Ь', 'Э', 'П', 'Й', 'З', 'И', 'Т', 'Ю', 'Я', 'Г', 'Х', 'С', 'Ф', 'Л', 'Ч', 'У', 'Р', 'О', 'А'], ['К', 'В', 'Ц', 'Ш', 'Щ', 'Б', 'М', 'Н', 'Ы', 'Ж', 'Е', 'Д', 'Ь', 'Э', 'П', 'Й', 'З', 'И', 'Т', 'Ю', 'Я', 'Г', 'Х', 'С', 'Ф', 'Л', 'Ч', 'У', 'Р', 'О', 'А', '_'], ['В', 'Ц', 'Ш', 'Щ', 'Б', 'М', 'Н', 'Ы', 'Ж', 'Е', 'Д', 'Ь', 'Э', 'П', 'Й', 'З', 'И', 'Т', 'Ю', 'Я', 'Г', 'Х', 'С', 'Ф', 'Л', 'Ч', 'У', 'Р', 'О', 'А', '_', 'К'], ['Ц', 'Ш', 'Щ', 'Б', 'М', 'Н', 'Ы', 'Ж', 'Е', 'Д', 'Ь', 'Э', 'П', 'Й', 'З', 'И', 'Т', 'Ю', 'Я', 'Г', 'Х', 'С', 'Ф', 'Л', 'Ч', 'У', 'Р', 'О', 'А', '_', 'К', 'В'], ['Ш', 'Щ', 'Б', 'М', 'Н', 'Ы', 'Ж', 'Е', 'Д', 'Ь', 'Э', 'П', 'Й', 'З', 'И', 'Т', 'Ю', 'Я', 'Г', 'Х', 'С', 'Ф', 'Л', 'Ч', 'У', 'Р', 'О', 'А', '_', 'К', 'В', 'Ц'], ['Щ', 'Б', 'М', 'Н', 'Ы', 'Ж', 'Е', 'Д', 'Ь', 'Э', 'П', 'Й', 'З', 'И', 'Т', 'Ю', 'Я', 'Г', 'Х', 'С', 'Ф', 'Л', 'Ч', 'У', 'Р', 'О', 'А', '_', 'К', 'В', 'Ц', 'Ш'], ['Б', 'М', 'Н', 'Ы', 'Ж', 'Е', 'Д', 'Ь', 'Э', 'П', 'Й', 'З', 'И', 'Т', 'Ю', 'Я', 'Г', 'Х', 'С', 'Ф', 'Л', 'Ч', 'У', 'Р', 'О', 'А', '_', 'К', 'В', 'Ц', 'Ш', 'Щ'], ['М', 'Н', 'Ы', 'Ж', 'Е', 'Д', 'Ь', 'Э', 'П', 'Й', 'З', 'И', 'Т', 'Ю', 'Я', 'Г', 'Х', 'С', 'Ф', 'Л', 'Ч', 'У', 'Р', 'О', 'А', '_', 'К', 'В', 'Ц', 'Ш', 'Щ', 'Б'], ['Н', 'Ы', 'Ж', 'Е', 'Д', 'Ь', 'Э', 'П', 'Й', 'З', 'И', 'Т', 'Ю', 'Я', 'Г', 'Х', 'С', 'Ф', 'Л', 'Ч', 'У', 'Р', 'О', 'А', '_', 'К', 'В', 'Ц', 'Ш', 'Щ', 'Б', 'М'], ['Ы', 'Ж', 'Е', 'Д', 'Ь', 'Э', 'П', 'Й', 'З', 'И', 'Т', 'Ю', 'Я', 'Г', 'Х', 'С', 'Ф', 'Л', 'Ч', 'У', 'Р', 'О', 'А', '_', 'К', 'В', 'Ц', 'Ш', 'Щ', 'Б', 'М', 'Н'], ['Ж', 'Е', 'Д', 'Ь', 'Э', 'П', 'Й', 'З', 'И', 'Т', 'Ю', 'Я', 'Г', 'Х', 'С', 'Ф', 'Л', 'Ч', 'У', 'Р', 'О', 'А', '_', 'К', 'В', 'Ц', 'Ш', 'Щ', 'Б', 'М', 'Н', 'Ы'], ['Е', 'Д', 'Ь', 'Э', 'П', 'Й', 'З', 'И', 'Т', 'Ю', 'Я', 'Г', 'Х', 'С', 'Ф', 'Л', 'Ч', 'У', 'Р', 'О', 'А', '_', 'К', 'В', 'Ц', 'Ш', 'Щ', 'Б', 'М', 'Н', 'Ы', 'Ж'], ['Д', 'Ь', 'Э', 'П', 'Й', 'З', 'И', 'Т', 'Ю', 'Я', 'Г', 'Х', 'С', 'Ф', 'Л', 'Ч', 'У', 'Р', 'О', 'А', '_', 'К', 'В', 'Ц', 'Ш', 'Щ', 'Б', 'М', 'Н', 'Ы', 'Ж', 'Е'], ['Ь', 'Э', 'П', 'Й', 'З', 'И', 'Т', 'Ю', 'Я', 'Г', 'Х', 'С', 'Ф', 'Л', 'Ч', 'У', 'Р', 'О', 'А', '_', 'К', 'В', 'Ц', 'Ш', 'Щ', 'Б', 'М', 'Н', 'Ы', 'Ж', 'Е', 'Д'], ['Э', 'П', 'Й', 'З', 'И', 'Т', 'Ю', 'Я', 'Г', 'Х', 'С', 'Ф', 'Л', 'Ч', 'У', 'Р', 'О', 'А', '_', 'К', 'В', 'Ц', 'Ш', 'Щ', 'Б', 'М', 'Н', 'Ы', 'Ж', 'Е', 'Д', 'Ь'], ['П', 'Й', 'З', 'И', 'Т', 'Ю', 'Я', 'Г', 'Х', 'С', 'Ф', 'Л', 'Ч', 'У', 'Р', 'О', 'А', '_', 'К', 'В', 'Ц', 'Ш', 'Щ', 'Б', 'М', 'Н', 'Ы', 'Ж', 'Е', 'Д', 'Ь', 'Э'], ['Й', 'З', 'И', 'Т', 'Ю', 'Я', 'Г', 'Х', 'С', 'Ф', 'Л', 'Ч', 'У', 'Р', 'О', 'А', '_', 'К', 'В', 'Ц', 'Ш', 'Щ', 'Б', 'М', 'Н', 'Ы', 'Ж', 'Е', 'Д', 'Ь', 'Э', 'П'], ['З', 'И', 'Т', 'Ю', 'Я', 'Г', 'Х', 'С', 'Ф', 'Л', 'Ч', 'У', 'Р', 'О', 'А', '_', 'К', 'В', 'Ц', 'Ш', 'Щ', 'Б', 'М', 'Н', 'Ы', 'Ж', 'Е', 'Д', 'Ь', 'Э', 'П', 'Й'], ['И', 'Т', 'Ю', 'Я', 'Г', 'Х', 'С', 'Ф', 'Л', 'Ч', 'У', 'Р', 'О', 'А', '_', 'К', 'В', 'Ц', 'Ш', 'Щ', 'Б', 'М', 'Н', 'Ы', 'Ж', 'Е', 'Д', 'Ь', 'Э', 'П', 'Й', 'З'], ['Т', 'Ю', 'Я', 'Г', 'Х', 'С', 'Ф', 'Л', 'Ч', 'У', 'Р', 'О', 'А', '_', 'К', 'В', 'Ц', 'Ш', 'Щ', 'Б', 'М', 'Н', 'Ы', 'Ж', 'Е', 'Д', 'Ь', 'Э', 'П', 'Й', 'З', 'И'], ['Ю', 'Я', 'Г', 'Х', 'С', 'Ф', 'Л', 'Ч', 'У', 'Р', 'О', 'А', '_', 'К', 'В', 'Ц', 'Ш', 'Щ', 'Б', 'М', 'Н', 'Ы', 'Ж', 'Е', 'Д', 'Ь', 'Э', 'П', 'Й', 'З', 'И', 'Т'], ['Я', 'Г', 'Х', 'С', 'Ф', 'Л', 'Ч', 'У', 'Р', 'О', 'А', '_', 'К', 'В', 'Ц', 'Ш', 'Щ', 'Б', 'М', 'Н', 'Ы', 'Ж', 'Е', 'Д', 'Ь', 'Э', 'П', 'Й', 'З', 'И', 'Т', 'Ю'], ['Г', 'Х', 'С', 'Ф', 'Л', 'Ч', 'У', 'Р', 'О', 'А', '_', 'К', 'В', 'Ц', 'Ш', 'Щ', 'Б', 'М', 'Н', 'Ы', 'Ж', 'Е', 'Д', 'Ь', 'Э', 'П', 'Й', 'З', 'И', 'Т', 'Ю', 'Я'], ['Х', 'С', 'Ф', 'Л', 'Ч', 'У', 'Р', 'О', 'А', '_', 'К', 'В', 'Ц', 'Ш', 'Щ', 'Б', 'М', 'Н', 'Ы', 'Ж', 'Е', 'Д', 'Ь', 'Э', 'П', 'Й', 'З', 'И', 'Т', 'Ю', 'Я', 'Г'], ['С', 'Ф', 'Л', 'Ч', 'У', 'Р', 'О', 'А', '_', 'К', 'В', 'Ц', 'Ш', 'Щ', 'Б', 'М', 'Н', 'Ы', 'Ж', 'Е', 'Д', 'Ь', 'Э', 'П', 'Й', 'З', 'И', 'Т', 'Ю', 'Я', 'Г', 'Х'], ['Ф', 'Л', 'Ч', 'У', 'Р', 'О', 'А', '_', 'К', 'В', 'Ц', 'Ш', 'Щ', 'Б', 'М', 'Н', 'Ы', 'Ж', 'Е', 'Д', 'Ь', 'Э', 'П', 'Й', 'З', 'И', 'Т', 'Ю', 'Я', 'Г', 'Х', 'С'], ['Л', 'Ч', 'У', 'Р', 'О', 'А', '_', 'К', 'В', 'Ц', 'Ш', 'Щ', 'Б', 'М', 'Н', 'Ы', 'Ж', 'Е', 'Д', 'Ь', 'Э', 'П', 'Й', 'З', 'И', 'Т', 'Ю', 'Я', 'Г', 'Х', 'С', 'Ф'], ['Ч', 'У', 'Р', 'О', 'А', '_', 'К', 'В', 'Ц', 'Ш', 'Щ', 'Б', 'М', 'Н', 'Ы', 'Ж', 'Е', 'Д', 'Ь', 'Э', 'П', 'Й', 'З', 'И', 'Т', 'Ю', 'Я', 'Г', 'Х', 'С', 'Ф', 'Л'], ['У', 'Р', 'О', 'А', '_', 'К', 'В', 'Ц', 'Ш', 'Щ', 'Б', 'М', 'Н', 'Ы', 'Ж', 'Е', 'Д', 'Ь', 'Э', 'П', 'Й', 'З', 'И', 'Т', 'Ю', 'Я', 'Г', 'Х', 'С', 'Ф', 'Л', 'Ч']]\n",
            "СЙЦВЕУВЮДХ\n"
          ]
        }
      ]
    },
    {
      "cell_type": "code",
      "source": [
        "# @title Задание 4. Кодирование слова кодом Хаффмена. | Не трогать код!!!\n",
        "# @markdown Просто запустите следующее деление\n",
        "def huffman_encode(text):\n",
        "    huffman_code = {\n",
        "        '_': '101',\n",
        "        'А': '1111',\n",
        "        'Б': '000001',\n",
        "        'В': '10001',\n",
        "        'Г': '010001',\n",
        "        'Д': '01001',\n",
        "        'Е': '1101',\n",
        "        'Ё': '1101',\n",
        "        'Ж': '0000001',\n",
        "        'З': '110000',\n",
        "        'И': '1110',\n",
        "        'Й': '1000001',\n",
        "        'К': '00011',\n",
        "        'Л': '11001',\n",
        "        'М': '00001',\n",
        "        'Н': '0010',\n",
        "        'О': '011',\n",
        "        'П': '100101',\n",
        "        'Р': '10011',\n",
        "        'С': '0101',\n",
        "        'Т': '0011',\n",
        "        'У': '100100',\n",
        "        'Ф': '100000000',\n",
        "        'Х': '0001001',\n",
        "        'Ц': '00010001',\n",
        "        'Ч': '010000',\n",
        "        'Ш': '10000001',\n",
        "        'Щ': '00010000',\n",
        "        'Ъ': '000101',\n",
        "        'Ь': '000101',\n",
        "        'Ы': '110001',\n",
        "        'Э': '100000001',\n",
        "        'Ю': '0000000',\n",
        "        'Я': '100001',\n",
        "    }\n",
        "\n",
        "    encoded_text = ''\n",
        "    for char in text:\n",
        "        char = char.upper()  # Convert to uppercase for consistency\n",
        "        if char in huffman_code:\n",
        "            encoded_text += huffman_code[char] + \" \"\n",
        "        else:\n",
        "            # Handle characters not in the mapping (e.g., punctuation)\n",
        "            encoded_text += char +  \" \"  # Or raise an exception, or skip the character\n",
        "\n",
        "    return encoded_text"
      ],
      "metadata": {
        "id": "lUtjfMwOQ92z",
        "cellView": "form"
      },
      "execution_count": null,
      "outputs": []
    },
    {
      "cell_type": "code",
      "source": [
        "huffman_name = huffman_encode(vigenere_name)\n",
        "print(huffman_name)"
      ],
      "metadata": {
        "id": "n1eqJeiVQ_Bz",
        "colab": {
          "base_uri": "https://localhost:8080/"
        },
        "outputId": "61b08a16-9a9d-4b09-e906-7e4db1785ed5"
      },
      "execution_count": null,
      "outputs": [
        {
          "output_type": "stream",
          "name": "stdout",
          "text": [
            "0101 1000001 00010001 10001 1101 100100 10001 0000000 01001 0001001 \n"
          ]
        }
      ]
    },
    {
      "cell_type": "code",
      "source": [
        "# @title Задание 5. Рассчет энтропии объединения | Не трогать код!!!\n",
        "#  В процессе разработки\n",
        "\n",
        "from fractions import Fraction\n",
        "from math import gcd\n",
        "from functools import reduce\n",
        "from collections import Counter\n",
        "import math\n",
        "\n",
        "\n",
        "# Матрица условных вероятностей\n",
        "prob_matrix = [\n",
        "    [Fraction(0.25), Fraction(0.25), Fraction(0.125), Fraction(0.125), Fraction(0.125), Fraction(0.125)],\n",
        "    [Fraction(0.25), Fraction(0.125), Fraction(0.25), Fraction(0.125), Fraction(0.125), Fraction(0.125)],\n",
        "    [Fraction(0.125), Fraction(0.25), Fraction(0.125), Fraction(0.25), Fraction(0.125), Fraction(0.125)],\n",
        "    [Fraction(0.125), Fraction(0.125), Fraction(0.25), Fraction(0.125), Fraction(0.25), Fraction(0.125)],\n",
        "]\n",
        "\n",
        "\n",
        "\n",
        "\n",
        "\n",
        "def multiplyMatrix(values, matrix=prob_matrix):\n",
        "# Умножаем каждую строку на соответствующее значение x\n",
        "  result_matrix = []\n",
        "  for x, row in zip(x_values, matrix):\n",
        "      result_row = [x * y for y in row]\n",
        "      result_matrix.append(result_row)\n",
        "  return result_matrix\n",
        "\n",
        "# Функция для нахождения общего знаменателя\n",
        "def lcm(a, b):\n",
        "    \"\"\"Наименьшее общее кратное двух чисел.\"\"\"\n",
        "    return a * b // gcd(a, b)\n",
        "\n",
        "def find_common_denominator(matrix):\n",
        "    \"\"\"Находим общий знаменатель для всех дробей в матрице.\"\"\"\n",
        "    denominators = [frac.denominator for row in matrix for frac in row]\n",
        "    return reduce(lcm, denominators)\n",
        "\n",
        "def convert_to_common_denominator(matrix, common_denominator):\n",
        "    \"\"\"Приводим все дроби в матрице к общему знаменателю.\"\"\"\n",
        "    new_matrix = []\n",
        "    for row in matrix:\n",
        "      new_row = []\n",
        "      for frac in row:\n",
        "        new_row.append(f'{frac.numerator * (common_denominator // frac.denominator)}/{common_denominator}')\n",
        "\n",
        "      new_matrix.append(new_row)\n",
        "    return new_matrix\n",
        "\n",
        "def strMatrixToFrac(matrix):\n",
        "  new_matrix1 = []\n",
        "  for row in matrix:\n",
        "    new_row1 = []\n",
        "    for frac in row:\n",
        "      frac_top_int = int(frac.split('/')[0])\n",
        "      frac_bottom_int = int(frac.split('/')[1])\n",
        "      new_row1.append(Fraction(frac_top_int, frac_bottom_int))\n",
        "    new_matrix1.append(new_row1)\n",
        "\n",
        "  return new_matrix1\n",
        "\n",
        "\n",
        "def findEnthropy(new_matrix1):\n",
        "\n",
        "  # Преобразуем матрицу в список\n",
        "  flat_matrix = [elem for row in new_matrix1 for elem in row]\n",
        "  # Считаем количество каждой уникальной дроби\n",
        "  fraction_counts = Counter(flat_matrix)\n",
        "\n",
        "  # Вычисляем сумму дробь * ln(дробь) * количество\n",
        "  result = 0\n",
        "  for frac, count in fraction_counts.items():\n",
        "      print(f\"{frac}: {count}\")\n",
        "      value = float(frac)  # Преобразуем дробь в число\n",
        "      if value > 0:  # Логарифм от нуля не существует\n",
        "          term = (value * math.log2(value) * count)  # Дробь * её логарифм * количество\n",
        "          print(term)\n",
        "\n",
        "          result += term  # Добавляем к итоговой сумме\n",
        "\n",
        "  return result * -1\n",
        "\n",
        "\n",
        "def calcEnthropy(values, matrix=prob_matrix):\n",
        "    multiplied_matrix = multiplyMatrix(values)\n",
        "    common_denominator = find_common_denominator(multiplied_matrix)\n",
        "    converted_matrix = convert_to_common_denominator(multiplied_matrix, common_denominator)\n",
        "    frac_matrix = strMatrixToFrac(converted_matrix)\n",
        "    enthropy = findEnthropy(frac_matrix)\n",
        "    return converted_matrix, enthropy\n",
        "\n",
        "\n",
        "\n"
      ],
      "metadata": {
        "cellView": "form",
        "id": "Y3LgKCrTAFiu"
      },
      "execution_count": null,
      "outputs": []
    },
    {
      "cell_type": "code",
      "source": [
        "# Значения для x1, x2, x3, x4\n",
        "x_values = [Fraction(0.125), Fraction(0.125), Fraction(0.25), Fraction(0.5)]\n",
        "\n",
        "result_matrix_common, enthropy = calcEnthropy(x_values)\n",
        "# Выводим результирующую матрицу\n",
        "print(\"Приведенная матрица с общим знаменателем:\")\n",
        "for row in result_matrix_common:\n",
        "    print([str(frac) for frac in row])\n",
        "print(f\"\\nИтоговый результат: {enthropy}\")\n"
      ],
      "metadata": {
        "colab": {
          "base_uri": "https://localhost:8080/"
        },
        "id": "X-qkZfMjXSGz",
        "outputId": "14748a25-b148-4eaf-9285-2f0184a27d00"
      },
      "execution_count": null,
      "outputs": [
        {
          "output_type": "stream",
          "name": "stdout",
          "text": [
            "1/32: 8\n",
            "-1.25\n",
            "1/64: 8\n",
            "-0.75\n",
            "1/16: 6\n",
            "-1.5\n",
            "1/8: 2\n",
            "-0.75\n",
            "Приведенная матрица с общим знаменателем:\n",
            "['2/64', '2/64', '1/64', '1/64', '1/64', '1/64']\n",
            "['2/64', '1/64', '2/64', '1/64', '1/64', '1/64']\n",
            "['2/64', '4/64', '2/64', '4/64', '2/64', '2/64']\n",
            "['4/64', '4/64', '8/64', '4/64', '8/64', '4/64']\n",
            "\n",
            "Итоговый результат: 4.25\n"
          ]
        }
      ]
    },
    {
      "cell_type": "code",
      "source": [
        "# Значения для x1, x2, x3, x4\n",
        "x_values = [Fraction(0.125), Fraction(0.125), Fraction(0.125), Fraction(0.625)]\n",
        "\n",
        "result_matrix_common, enthropy = calcEnthropy(x_values)\n",
        "# Выводим результирующую матрицу\n",
        "print(\"Приведенная матрица с общим знаменателем:\")\n",
        "for row in result_matrix_common:\n",
        "    print([str(frac) for frac in row])\n",
        "\n",
        "print(f\"\\nИтоговый результат: {enthropy}\")\n",
        "\n"
      ],
      "metadata": {
        "colab": {
          "base_uri": "https://localhost:8080/"
        },
        "id": "Dx-iY07haJPN",
        "outputId": "894b0e0e-b96f-446e-d23c-5350f09f81d2"
      },
      "execution_count": null,
      "outputs": [
        {
          "output_type": "stream",
          "name": "stdout",
          "text": [
            "1/32: 6\n",
            "-0.9375\n",
            "1/64: 12\n",
            "-1.125\n",
            "5/64: 4\n",
            "-1.1493974703476992\n",
            "5/32: 2\n",
            "-0.8368974703476993\n",
            "Приведенная матрица с общим знаменателем:\n",
            "['2/64', '2/64', '1/64', '1/64', '1/64', '1/64']\n",
            "['2/64', '1/64', '2/64', '1/64', '1/64', '1/64']\n",
            "['1/64', '2/64', '1/64', '2/64', '1/64', '1/64']\n",
            "['5/64', '5/64', '10/64', '5/64', '10/64', '5/64']\n",
            "\n",
            "Итоговый результат: 4.048794940695398\n"
          ]
        }
      ]
    },
    {
      "cell_type": "code",
      "source": [
        "# @title Задание 6. ИКМ Преобразование\n",
        "# @markdown По сути, вам нужно только подставить в объект значения которые у вас есть, остально он посчитает сам, но не факт, я с другими не проверял)))\n",
        "import numpy as np\n",
        "\n",
        "def calc_params(data):\n",
        "    while None in data.values():  # Пока есть неопределённые значения\n",
        "        recalculated = False  # Сброс флага изменений\n",
        "\n",
        "        # Рассчитываем T (мс)\n",
        "        if data['T'] is None:\n",
        "            if data['ΔF'] is not None:\n",
        "                data['T'] = 1 / (2 * data['ΔF'])\n",
        "                recalculated = True\n",
        "            elif data['B_otsch'] is not None:\n",
        "                data['T'] = 1 / (data['B_otsch'] / 1000)\n",
        "                recalculated = True\n",
        "\n",
        "        # Рассчитываем ΔF (кГц)\n",
        "        if data['ΔF'] is None and data['T'] is not None:\n",
        "            data['ΔF'] = 1 / (2 * data['T'])\n",
        "            recalculated = True\n",
        "\n",
        "        # Рассчитываем B_otsch (отсч/с)\n",
        "        if data['B_otsch'] is None:\n",
        "            if data['T'] is not None:\n",
        "                data['B_otsch'] = 1 / data['T']\n",
        "                recalculated = True\n",
        "            elif data['B_c'] is not None and data['n'] is not None:\n",
        "                data['B_otsch'] = (data['B_c']) / data['n']\n",
        "                recalculated = True\n",
        "\n",
        "        # Рассчитываем n (разрядность квантования)\n",
        "        if data['n'] is None and data['N'] is not None:\n",
        "            data['n'] = np.log2(data['N'])\n",
        "            recalculated = True\n",
        "\n",
        "        # Рассчитываем N (уровни квантования)\n",
        "        if data['N'] is None and data['n'] is not None:\n",
        "            data['N'] = 2**data['n']\n",
        "            recalculated = True\n",
        "\n",
        "        # Рассчитываем B_c (кбит/с)\n",
        "        if data['B_c'] is None:\n",
        "            if data['n'] is not None and data['B_otsch'] is not None:\n",
        "                data['B_c'] = data['n'] * data['B_otsch'] / 1000\n",
        "                recalculated = True\n",
        "            elif data['r'] is not None:\n",
        "                data['B_c'] = (1 / data['r']) * 10**6\n",
        "                recalculated = True\n",
        "\n",
        "        # Рассчитываем r (мкс)\n",
        "        if data['r'] is None and data['B_c'] is not None:\n",
        "            data['r'] = (1 / (data['B_c'] * 1000)) * 10**6\n",
        "            recalculated = True\n",
        "\n",
        "        # Если за итерацию ничего не поменялось, выходим\n",
        "        if not recalculated:\n",
        "            print(\"Не удалось вычислить все параметры. Проверьте входные данные.\")\n",
        "            break\n",
        "\n",
        "    return data\n",
        "\n",
        "# Входные данные\n",
        "real_data = {\n",
        "    \"ΔF\": None,    # кГц\n",
        "    \"T\": None,     # мс\n",
        "    \"B_otsch\": None,  # отсч/с\n",
        "    \"N\": None,       # уровни квантования\n",
        "    \"n\": 4,        # разрядность квантования\n",
        "    \"B_c\": None,   # кбит/с\n",
        "    \"r\": 62.5,     # мкс\n",
        "}\n",
        "\n",
        "# Расчёт\n",
        "res = calc_params(real_data)\n",
        "print(res)"
      ],
      "metadata": {
        "id": "3RRJuMwQK8-o",
        "colab": {
          "base_uri": "https://localhost:8080/"
        },
        "outputId": "c552c88b-7f81-45e2-d855-bc12f0fcc1b0"
      },
      "execution_count": null,
      "outputs": [
        {
          "output_type": "stream",
          "name": "stdout",
          "text": [
            "{'ΔF': 2.0, 'T': 0.25, 'B_otsch': 4000.0, 'N': 16, 'n': 4, 'B_c': 16000.0, 'r': 62.5}\n"
          ]
        }
      ]
    },
    {
      "cell_type": "code",
      "source": [
        "real_data = {\n",
        "        \"ΔF\": None,   # кГц\n",
        "        \"T\": None,    # мс\n",
        "        \"B_otsch\": None,  # отсч/с\n",
        "        \"N\": None,    # уровни квантования\n",
        "        \"n\": 4,    # разрядность квантования\n",
        "        \"B_c\": None,  # кбит/с\n",
        "        \"r\": 62.5,    # мкс\n",
        "    }\n",
        "\n",
        "res = calc_params(real_data)\n",
        "print(res)"
      ],
      "metadata": {
        "colab": {
          "base_uri": "https://localhost:8080/"
        },
        "id": "5C7I5diu-i89",
        "outputId": "fb678593-9c8a-43f9-f098-b4aba721e47d"
      },
      "execution_count": null,
      "outputs": [
        {
          "output_type": "stream",
          "name": "stdout",
          "text": [
            "{'ΔF': 2.0, 'T': 0.25, 'B_otsch': 4000.0, 'N': 16, 'n': 4, 'B_c': 16000.0, 'r': 62.5}\n"
          ]
        }
      ]
    },
    {
      "cell_type": "code",
      "source": [
        "# @title Задание 7. Арифметическое кодирование\n",
        "# @markdown Просто впишите свое слово в следующее деление и получите результат\n",
        "current_probabilities = {\n",
        "    '_' : {\n",
        "        'probability' : 0.2,\n",
        "        'Zl' : 0,\n",
        "        'Zh' : 0.2\n",
        "    },\n",
        "    'К' : {\n",
        "        'probability' : 0.2,\n",
        "        'Zl' : 0.2,\n",
        "        'Zh' : 0.4\n",
        "    },\n",
        "    'С' : {\n",
        "        'probability' : 0.1,\n",
        "        'Zl' : 0.4,\n",
        "        'Zh' : 0.5\n",
        "    },\n",
        "    'А' : {\n",
        "        'probability' : 0.1,\n",
        "        'Zl' : 0.5,\n",
        "        'Zh' : 0.6\n",
        "    },\n",
        "    'Л' : {\n",
        "        'probability' : 0.1,\n",
        "        'Zl' : 0.6,\n",
        "        'Zh' : 0.7\n",
        "    },\n",
        "    'О' : {\n",
        "        'probability' : 0.1,\n",
        "        'Zl' : 0.7,\n",
        "        'Zh' : 0.8\n",
        "    },\n",
        "    'Р' : {\n",
        "        'probability' : 0.1,\n",
        "        'Zl' : 0.8,\n",
        "        'Zh' : 0.9\n",
        "    },\n",
        "    'Е' : {\n",
        "        'probability' : 0.05,\n",
        "        'Zl' : 0.9,\n",
        "        'Zh' : 0.95\n",
        "    },\n",
        "    'Ё' : {\n",
        "        'probability' : 0.05,\n",
        "        'Zl' : 0.9,\n",
        "        'Zh' : 0.95\n",
        "    },\n",
        "    'И' : {\n",
        "        'probability' : 0.05,\n",
        "        'Zl' : 0.95,\n",
        "        'Zh' : 1\n",
        "    },\n",
        "}\n",
        "new_matrix = []\n",
        "def letter_areth_code(word, i=0, y=1, x=0):\n",
        "\n",
        "  if i >= len(word):\n",
        "    return\n",
        "\n",
        "  word.upper()\n",
        "  new_y = x + (y - x)*current_probabilities[word[i]]['Zh']\n",
        "  new_x = x + (y - x)*current_probabilities[word[i]]['Zl']\n",
        "  new_matrix.append([new_x, new_y])\n",
        "  print(f'Буква: {word[i]}, x{i+1} = {new_x}, y{i+1} = {new_y}')\n",
        "\n",
        "  letter_areth_code (word, i+1, new_y, new_x)\n"
      ],
      "metadata": {
        "id": "F5a_Ffsnzovk",
        "cellView": "form"
      },
      "execution_count": null,
      "outputs": []
    },
    {
      "cell_type": "code",
      "source": [
        "letter_areth_code('ЛАРЕК_')\n",
        "print(new_matrix)"
      ],
      "metadata": {
        "colab": {
          "base_uri": "https://localhost:8080/"
        },
        "id": "1JCXci8l-yKn",
        "outputId": "24ed12ac-29f6-43b5-e2b4-7c05c5fab270"
      },
      "execution_count": null,
      "outputs": [
        {
          "output_type": "stream",
          "name": "stdout",
          "text": [
            "Буква: Л, x1 = 0.6, y1 = 0.7\n",
            "Буква: А, x2 = 0.6499999999999999, y2 = 0.6599999999999999\n",
            "Буква: Р, x3 = 0.6579999999999999, y3 = 0.6589999999999999\n",
            "Буква: Е, x4 = 0.6588999999999999, y4 = 0.6589499999999999\n",
            "Буква: К, x5 = 0.6589099999999999, y5 = 0.65892\n",
            "Буква: _, x6 = 0.6589099999999999, y6 = 0.6589119999999999\n",
            "[[0.6, 0.7], [0.6499999999999999, 0.6599999999999999], [0.6579999999999999, 0.6589999999999999], [0.6588999999999999, 0.6589499999999999], [0.6589099999999999, 0.65892], [0.6589099999999999, 0.6589119999999999]]\n"
          ]
        }
      ]
    },
    {
      "cell_type": "code",
      "source": [
        "letter_areth_code('ЛАРЕК_')"
      ],
      "metadata": {
        "colab": {
          "base_uri": "https://localhost:8080/"
        },
        "id": "hK2OqWzuBWXJ",
        "outputId": "4db9bc29-63cd-4827-9594-344a6f1b93e6"
      },
      "execution_count": null,
      "outputs": [
        {
          "output_type": "stream",
          "name": "stdout",
          "text": [
            "Буква: Л, x1 = 0.6, y1 = 0.7\n",
            "Буква: А, x2 = 0.6499999999999999, y2 = 0.6599999999999999\n",
            "Буква: Р, x3 = 0.6579999999999999, y3 = 0.6589999999999999\n",
            "Буква: Е, x4 = 0.6588999999999999, y4 = 0.6589499999999999\n",
            "Буква: К, x5 = 0.6589099999999999, y5 = 0.65892\n",
            "Буква: _, x6 = 0.6589099999999999, y6 = 0.6589119999999999\n"
          ]
        }
      ]
    },
    {
      "cell_type": "code",
      "source": [
        "import itertools\n",
        "\n",
        "target = 0.65891\n",
        "n = 19\n",
        "N = 2**n\n",
        "tolerance = 0.00001 # Допустимое отклонение от целевого значения\n",
        "\n",
        "best_sequence = None\n",
        "min_diff = float('inf')\n",
        "\n",
        "for signs in itertools.product([-1, 1], repeat=n - 1):\n",
        "    sequence = [1]\n",
        "    for i in range(n - 1):\n",
        "        next_val = sequence[-1] * 2 + signs[i]\n",
        "        sequence.append(next_val)\n",
        "\n",
        "    result = sequence[-1] / N\n",
        "    diff = abs(result - target)\n",
        "\n",
        "    if diff < min_diff and diff < tolerance:\n",
        "      min_diff = diff\n",
        "      best_sequence = sequence\n",
        "\n",
        "if best_sequence:\n",
        "    print(\"Найденная последовательность:\")\n",
        "    for i in range(n):\n",
        "        print(f\"{i+1}\\t{best_sequence[i]}\\t{2**(i+1)}\\t{best_sequence[i]/2**(i+1)}\")\n",
        "else:\n",
        "    print(f\"Последовательность, удовлетворяющая условию ({tolerance}), не найдена.\")"
      ],
      "metadata": {
        "colab": {
          "base_uri": "https://localhost:8080/"
        },
        "id": "Ln4Y0y4dELVo",
        "outputId": "bc991712-4419-48f3-8830-700b18fc94ca"
      },
      "execution_count": null,
      "outputs": [
        {
          "output_type": "stream",
          "name": "stdout",
          "text": [
            "Найденная последовательность:\n",
            "1\t1\t2\t0.5\n",
            "2\t3\t4\t0.75\n",
            "3\t5\t8\t0.625\n",
            "4\t11\t16\t0.6875\n",
            "5\t21\t32\t0.65625\n",
            "6\t43\t64\t0.671875\n",
            "7\t85\t128\t0.6640625\n",
            "8\t169\t256\t0.66015625\n",
            "9\t337\t512\t0.658203125\n",
            "10\t675\t1024\t0.6591796875\n",
            "11\t1349\t2048\t0.65869140625\n",
            "12\t2699\t4096\t0.658935546875\n",
            "13\t5397\t8192\t0.6588134765625\n",
            "14\t10795\t16384\t0.65887451171875\n",
            "15\t21591\t32768\t0.658905029296875\n",
            "16\t43183\t65536\t0.6589202880859375\n",
            "17\t86365\t131072\t0.6589126586914062\n",
            "18\t172729\t262144\t0.6589088439941406\n",
            "19\t345459\t524288\t0.6589107513427734\n"
          ]
        }
      ]
    }
  ]
}